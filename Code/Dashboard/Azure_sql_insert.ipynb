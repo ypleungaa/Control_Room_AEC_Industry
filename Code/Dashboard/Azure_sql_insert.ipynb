{
 "cells": [
  {
   "cell_type": "code",
   "execution_count": 58,
   "metadata": {},
   "outputs": [],
   "source": [
    "import pyodbc\n",
    "import pandas as pd\n",
    "sql_conn = pyodbc.connect('DRIVER={SQL Server};SERVER=anthonyucl.database.windows.net;DATABASE=ucldissert;UID=ypleungaa;PWD=@Bonbonissmart')\n"
   ]
  },
  {
   "cell_type": "code",
   "execution_count": 64,
   "metadata": {},
   "outputs": [],
   "source": [
    "df = pd.read_csv(\"safety.csv\")\n",
    "df1 =df.dropna()\n",
    "df1\n",
    "df1.to_csv(r'safety1.csv')"
   ]
  },
  {
   "cell_type": "code",
   "execution_count": 60,
   "metadata": {},
   "outputs": [],
   "source": [
    "cursor = sql_conn.cursor()"
   ]
  },
  {
   "cell_type": "code",
   "execution_count": 61,
   "metadata": {
    "scrolled": false
   },
   "outputs": [
    {
     "name": "stdout",
     "output_type": "stream",
     "text": [
      "id    1\n",
      "Name: 0, dtype: object\n",
      "id    2\n",
      "Name: 1, dtype: object\n",
      "id    9\n",
      "Name: 2, dtype: object\n",
      "id    37\n",
      "Name: 3, dtype: object\n",
      "id    38\n",
      "Name: 4, dtype: object\n",
      "id    39\n",
      "Name: 5, dtype: object\n",
      "id    40\n",
      "Name: 6, dtype: object\n",
      "id    41\n",
      "Name: 7, dtype: object\n",
      "id    42\n",
      "Name: 8, dtype: object\n",
      "id    43\n",
      "Name: 9, dtype: object\n",
      "id    44\n",
      "Name: 10, dtype: object\n",
      "id    45\n",
      "Name: 11, dtype: object\n",
      "id    46\n",
      "Name: 12, dtype: object\n",
      "id    47\n",
      "Name: 13, dtype: object\n",
      "id    48\n",
      "Name: 14, dtype: object\n"
     ]
    }
   ],
   "source": [
    "for index, row in df1.iterrows():\n",
    "    print(row)"
   ]
  },
  {
   "cell_type": "code",
   "execution_count": 62,
   "metadata": {},
   "outputs": [],
   "source": [
    "for index, row in df1.iterrows():\n",
    "    cursor.execute(\"INSERT INTO dbo.test2([id]) values(?)\", row['id'])\n",
    "    \n",
    "sql_conn.commit()\n",
    "cursor.close()\n",
    "sql_conn.close()"
   ]
  },
  {
   "cell_type": "code",
   "execution_count": null,
   "metadata": {},
   "outputs": [],
   "source": [
    "for index, row in df.iterrows():\n",
    "    cursor.execute(\"\n",
    "    INSERT INTO dbo.safety (id,location,investigaton,date_of_accident,date_of_report,time_of_accident,ai_category,body_part,nature_of_injury,type_of_accident,no_of_days_lost,target_closure_date,actual_closure_date,investigation_level) \n",
    "    Values(?,?,?,?,?,?,?,?,?,?,?,?,?,?)\", ),\n",
    "\n",
    "sql_conn.commit()\n",
    "row = cursor.fetchone()"
   ]
  }
 ],
 "metadata": {
  "kernelspec": {
   "display_name": "Python 3",
   "language": "python",
   "name": "python3"
  },
  "language_info": {
   "codemirror_mode": {
    "name": "ipython",
    "version": 3
   },
   "file_extension": ".py",
   "mimetype": "text/x-python",
   "name": "python",
   "nbconvert_exporter": "python",
   "pygments_lexer": "ipython3",
   "version": "3.7.6"
  }
 },
 "nbformat": 4,
 "nbformat_minor": 4
}

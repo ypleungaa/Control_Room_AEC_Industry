{
 "cells": [
  {
   "cell_type": "code",
   "execution_count": null,
   "metadata": {},
   "outputs": [],
   "source": [
    "import pyodbc\n",
    "import pandas as pd\n",
    "sql_conn = pyodbc.connect('DRIVER={SQL Server};SERVER=anthonyucl.database.windows.net;DATABASE=ucldissert;UID=ypleungaa;PWD=@Bonbonissmart')\n"
   ]
  },
  {
   "cell_type": "code",
   "execution_count": null,
   "metadata": {
    "scrolled": true
   },
   "outputs": [],
   "source": [
    "df = pd.read_csv(\"safety.csv\")\n",
    "df =df.dropna()\n",
    "df"
   ]
  },
  {
   "cell_type": "code",
   "execution_count": null,
   "metadata": {},
   "outputs": [],
   "source": [
    "cursor = sql_conn.cursor()"
   ]
  },
  {
   "cell_type": "code",
   "execution_count": null,
   "metadata": {},
   "outputs": [],
   "source": [
    "for index, row in df.iterrows():\n",
    "    cursor.execute(\"INSERT INTO dbo.safety(id,location,investigation,investigation_level,date_of_accident,date_of_report,time_of_accident,activity,ai_category,body_part,nature_of_injury,type_of_contact,no_of_days_lost,target_closure_date,actual_closure_date) values (?,?,?,?,?,?,?,?,?,?,?,?,?,?,?)\", row.id, row.location,row.investigation,row.investigation_level,row.date_of_accident,row.date_of_report,row.time_of_accident,row.activity,row.ai_category,row.body_part,row.nature_of_injury,row.type_of_contact,row.no_of_days_lost,row.target_closure_date,row.actual_closure_date)\n",
    "    \n",
    "sql_conn.commit()\n",
    "cursor.close()\n",
    "sql_conn.close()"
   ]
  }
 ],
 "metadata": {
  "kernelspec": {
   "display_name": "Python 3",
   "language": "python",
   "name": "python3"
  },
  "language_info": {
   "codemirror_mode": {
    "name": "ipython",
    "version": 3
   },
   "file_extension": ".py",
   "mimetype": "text/x-python",
   "name": "python",
   "nbconvert_exporter": "python",
   "pygments_lexer": "ipython3",
   "version": "3.7.6"
  }
 },
 "nbformat": 4,
 "nbformat_minor": 4
}
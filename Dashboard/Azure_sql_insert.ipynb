{
 "cells": [
  {
   "cell_type": "code",
   "execution_count": 13,
   "metadata": {},
   "outputs": [],
   "source": [
    "import pyodbc\n",
    "import pandas as pd\n",
    "cnxn = pyodbc.connect('DRIVER={SQL Server};SERVER=anthonyucl.database.windows.net;DATABASE=ucldissert;UID=ypleungaa;PWD=@Bonbonissmart')\n",
    "cursor = cnxn.cursor()"
   ]
  },
  {
   "cell_type": "code",
   "execution_count": 14,
   "metadata": {},
   "outputs": [
    {
     "name": "stdout",
     "output_type": "stream",
     "text": [
      "     Id messageId CorrelationId ConnectionDeviceId  \\\n",
      "0   151      None          None          sensorsql   \n",
      "1     1      None          None          sensorsql   \n",
      "2     2      None          None          sensorsql   \n",
      "3     3      None          None          sensorsql   \n",
      "4     4      None          None          sensorsql   \n",
      "5     5      None          None          sensorsql   \n",
      "6     6      None          None          sensorsql   \n",
      "7     7      None          None          sensorsql   \n",
      "8     8      None          None          sensorsql   \n",
      "9     9      None          None          sensorsql   \n",
      "10   10      None          None          sensorsql   \n",
      "11   11      None          None          sensorsql   \n",
      "12   12      None          None          sensorsql   \n",
      "13   13      None          None          sensorsql   \n",
      "14   14      None          None          sensorsql   \n",
      "15   15      None          None          sensorsql   \n",
      "16   16      None          None          sensorsql   \n",
      "17   17      None          None          sensorsql   \n",
      "18   18      None          None          sensorsql   \n",
      "19  228      None          None          sensorsql   \n",
      "20  132      None          None          sensorsql   \n",
      "21  137      None          None          sensorsql   \n",
      "22  207      None          None          sensorsql   \n",
      "23  186      None          None          sensorsql   \n",
      "24  230      None          None          sensorsql   \n",
      "25  127      None          None          sensorsql   \n",
      "\n",
      "   ConnectionDeviceGenerationId StreamId       temperature          humidity  \\\n",
      "0            637291924652383455     None   34.360439453125  41.3098754882813   \n",
      "1            637291924652383455     None  35.4222241210937  45.8341064453125   \n",
      "2            637291924652383455     None    35.43294921875  45.8722534179688   \n",
      "3            637291924652383455     None  35.4114990234375   46.215576171875   \n",
      "4            637291924652383455     None   35.390048828125   46.459716796875   \n",
      "5            637291924652383455     None  35.4222241210937  46.6199340820313   \n",
      "6            637291924652383455     None  35.4436743164063  46.6885986328125   \n",
      "7            637291924652383455     None  35.4865747070312  46.6199340820313   \n",
      "8            637291924652383455     None  35.4972998046875  46.6199340820313   \n",
      "9            637291924652383455     None   35.561650390625  46.4520874023438   \n",
      "10           637291924652383455     None  35.5938256835937  46.4139404296875   \n",
      "11           637291924652383455     None  35.6152758789063  46.3834228515625   \n",
      "12           637291924652383455     None  35.6260009765625     46.3681640625   \n",
      "13           637291924652383455     None  35.5831005859375  46.7191162109375   \n",
      "14           637291924652383455     None  35.5723754882812  47.0319213867188   \n",
      "15           637291924652383455     None   35.561650390625     47.1005859375   \n",
      "16           637291924652383455     None  35.5723754882812   47.131103515625   \n",
      "17           637291924652383455     None   35.561650390625  47.2379150390625   \n",
      "18           637291924652383455     None  35.5080249023437     47.1005859375   \n",
      "19           637291924652383455     None      35.861953125  43.6597290039063   \n",
      "20           637291924652383455     None  34.8537939453125  43.4537353515625   \n",
      "21           637291924652383455     None  34.6500170898438    43.49951171875   \n",
      "22           637291924652383455     None  35.2935229492187  44.8499145507813   \n",
      "23           637291924652383455     None  34.7572680664062  45.2313842773438   \n",
      "24           637291924652383455     None  35.8941284179688  43.4232177734375   \n",
      "25           637291924652383455     None  34.9288696289062     43.9267578125   \n",
      "\n",
      "          EnqueuedTime  \n",
      "0  2020-07-15 14:52:41  \n",
      "1  2020-07-15 14:42:56  \n",
      "2  2020-07-15 14:42:59  \n",
      "3  2020-07-15 14:43:03  \n",
      "4  2020-07-15 14:43:06  \n",
      "5  2020-07-15 14:43:10  \n",
      "6  2020-07-15 14:43:13  \n",
      "7  2020-07-15 14:43:17  \n",
      "8  2020-07-15 14:43:20  \n",
      "9  2020-07-15 14:43:24  \n",
      "10 2020-07-15 14:43:27  \n",
      "11 2020-07-15 14:43:31  \n",
      "12 2020-07-15 14:43:34  \n",
      "13 2020-07-15 14:43:38  \n",
      "14 2020-07-15 14:43:41  \n",
      "15 2020-07-15 14:43:45  \n",
      "16 2020-07-15 14:43:48  \n",
      "17 2020-07-15 14:43:52  \n",
      "18 2020-07-15 14:43:55  \n",
      "19 2020-07-15 14:57:09  \n",
      "20 2020-07-15 14:51:35  \n",
      "21 2020-07-15 14:51:52  \n",
      "22 2020-07-15 14:55:56  \n",
      "23 2020-07-15 14:54:43  \n",
      "24 2020-07-15 14:57:16  \n",
      "25 2020-07-15 14:51:17  \n"
     ]
    }
   ],
   "source": [
    "sql = \"SELECT * FROM dbo.sensor;\"\n",
    "df = pd.read_sql(sql, cnxn)\n",
    "print(df.head(26))\n",
    "cnxn.commit()\n",
    "cursor.close()"
   ]
  },
  {
   "cell_type": "code",
   "execution_count": null,
   "metadata": {},
   "outputs": [],
   "source": []
  }
 ],
 "metadata": {
  "kernelspec": {
   "display_name": "Python 3",
   "language": "python",
   "name": "python3"
  },
  "language_info": {
   "codemirror_mode": {
    "name": "ipython",
    "version": 3
   },
   "file_extension": ".py",
   "mimetype": "text/x-python",
   "name": "python",
   "nbconvert_exporter": "python",
   "pygments_lexer": "ipython3",
   "version": "3.7.6"
  }
 },
 "nbformat": 4,
 "nbformat_minor": 4
}
